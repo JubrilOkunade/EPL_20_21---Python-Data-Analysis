{
 "cells": [
  {
   "cell_type": "markdown",
   "id": "47398f1d",
   "metadata": {},
   "source": [
    "# EPL_20_21 - Python Data Analysis"
   ]
  },
  {
   "cell_type": "markdown",
   "id": "505efd89",
   "metadata": {},
   "source": [
    "## By Jubril Okunade"
   ]
  },
  {
   "cell_type": "markdown",
   "id": "5404ff1c",
   "metadata": {},
   "source": [
    "## Table of Contents\n",
    "\n",
    "\n",
    "- Introduction\n",
    "- Data wrangling\n",
    "- Exploration and Visualization\n",
    "- Conclusion\n",
    "- Limitation\n",
    "- Glossary"
   ]
  },
  {
   "cell_type": "markdown",
   "id": "0e3e7fe0",
   "metadata": {},
   "source": [
    "# Introduction\n",
    "\n",
    "In this section of the report, I will give a short introduction about the dataset that I'll be performing my analysis on. At the close of this section, I will put forward some questions which will guide my analysis.\n",
    "\n",
    "The dataset I will be using is the `EPL_20_21` dataset which contains a collection of basic but crucial stats of the English Premier League 2020-21 season. The dataset has all the players that played in the EPL and their standard stats such as Goals, Assists, xG, xA, Passes Attempted, Pass Accuracy and some other important stats."
   ]
  },
  {
   "cell_type": "markdown",
   "id": "a3d3c0bb",
   "metadata": {},
   "source": [
    "## Questions to be investigated in this dataset:\n",
    "\n",
    "- Which team has the youngest squad?\n",
    "- Which non-english countries had the most players in the league?\n",
    "- The teams with the worst disciplinary record for the season?\n",
    "- Which outfield players played the most minutes?\n",
    "- Which teams received the most penalties?\n",
    "> I will be answering these questions through my analysis of the dataset."
   ]
  },
  {
   "cell_type": "code",
   "execution_count": 1,
   "id": "322c27f4",
   "metadata": {},
   "outputs": [],
   "source": [
    "# I will start by importing the packages to be used for this analysis.\n",
    "import pandas as pd\n",
    "import numpy as np\n",
    "import matplotlib.pyplot as plt\n",
    "import seaborn as sns\n",
    "%matplotlib inline"
   ]
  },
  {
   "cell_type": "markdown",
   "id": "c4bf2783",
   "metadata": {},
   "source": [
    "Now that all the packages have been imported, we can move on to the Data Wrangling section."
   ]
  },
  {
   "cell_type": "markdown",
   "id": "907ccba4",
   "metadata": {},
   "source": [
    "# Data Wrangling\n",
    "\n",
    "<ul>\n",
    "    <div>This section involves the following:</div>\n",
    "    <li>Loading the <b>EPL_20_21</b> dataset.</li>\n",
    "    <li>Assessing the <b>EPL_20_21</b> dataset to identify any issues with it's quality or structure.</li>\n",
    "    <li>Cleaning any issues highlighted in the assessment stage.</li>\n",
    "</ul>"
   ]
  },
  {
   "cell_type": "markdown",
   "id": "a2a8c93e",
   "metadata": {},
   "source": [
    "## Loading the dataset"
   ]
  },
  {
   "cell_type": "code",
   "execution_count": 2,
   "id": "8da0b945",
   "metadata": {},
   "outputs": [],
   "source": [
    "# load the dataset into the variable 'data'\n",
    "data = pd.read_csv('EPL_20_21.csv')"
   ]
  },
  {
   "cell_type": "markdown",
   "id": "be08660b",
   "metadata": {},
   "source": [
    "## Assessment"
   ]
  },
  {
   "cell_type": "markdown",
   "id": "77ce6ae3",
   "metadata": {},
   "source": [
    "### Visual assessment"
   ]
  },
  {
   "cell_type": "code",
   "execution_count": 3,
   "id": "95e41d29",
   "metadata": {},
   "outputs": [
    {
     "data": {
      "text/html": [
       "<div>\n",
       "<style scoped>\n",
       "    .dataframe tbody tr th:only-of-type {\n",
       "        vertical-align: middle;\n",
       "    }\n",
       "\n",
       "    .dataframe tbody tr th {\n",
       "        vertical-align: top;\n",
       "    }\n",
       "\n",
       "    .dataframe thead th {\n",
       "        text-align: right;\n",
       "    }\n",
       "</style>\n",
       "<table border=\"1\" class=\"dataframe\">\n",
       "  <thead>\n",
       "    <tr style=\"text-align: right;\">\n",
       "      <th></th>\n",
       "      <th>Name</th>\n",
       "      <th>Club</th>\n",
       "      <th>Nationality</th>\n",
       "      <th>Position</th>\n",
       "      <th>Age</th>\n",
       "      <th>Matches</th>\n",
       "      <th>Starts</th>\n",
       "      <th>Mins</th>\n",
       "      <th>Goals</th>\n",
       "      <th>Assists</th>\n",
       "      <th>Passes_Attempted</th>\n",
       "      <th>Perc_Passes_Completed</th>\n",
       "      <th>Penalty_Goals</th>\n",
       "      <th>Penalty_Attempted</th>\n",
       "      <th>xG</th>\n",
       "      <th>xA</th>\n",
       "      <th>Yellow_Cards</th>\n",
       "      <th>Red_Cards</th>\n",
       "    </tr>\n",
       "  </thead>\n",
       "  <tbody>\n",
       "    <tr>\n",
       "      <th>0</th>\n",
       "      <td>Mason Mount</td>\n",
       "      <td>Chelsea</td>\n",
       "      <td>ENG</td>\n",
       "      <td>MF,FW</td>\n",
       "      <td>21</td>\n",
       "      <td>36</td>\n",
       "      <td>32</td>\n",
       "      <td>2890</td>\n",
       "      <td>6</td>\n",
       "      <td>5</td>\n",
       "      <td>1881</td>\n",
       "      <td>82.3</td>\n",
       "      <td>1</td>\n",
       "      <td>1</td>\n",
       "      <td>0.21</td>\n",
       "      <td>0.24</td>\n",
       "      <td>2</td>\n",
       "      <td>0</td>\n",
       "    </tr>\n",
       "    <tr>\n",
       "      <th>1</th>\n",
       "      <td>Edouard Mendy</td>\n",
       "      <td>Chelsea</td>\n",
       "      <td>SEN</td>\n",
       "      <td>GK</td>\n",
       "      <td>28</td>\n",
       "      <td>31</td>\n",
       "      <td>31</td>\n",
       "      <td>2745</td>\n",
       "      <td>0</td>\n",
       "      <td>0</td>\n",
       "      <td>1007</td>\n",
       "      <td>84.6</td>\n",
       "      <td>0</td>\n",
       "      <td>0</td>\n",
       "      <td>0.00</td>\n",
       "      <td>0.00</td>\n",
       "      <td>2</td>\n",
       "      <td>0</td>\n",
       "    </tr>\n",
       "    <tr>\n",
       "      <th>2</th>\n",
       "      <td>Timo Werner</td>\n",
       "      <td>Chelsea</td>\n",
       "      <td>GER</td>\n",
       "      <td>FW</td>\n",
       "      <td>24</td>\n",
       "      <td>35</td>\n",
       "      <td>29</td>\n",
       "      <td>2602</td>\n",
       "      <td>6</td>\n",
       "      <td>8</td>\n",
       "      <td>826</td>\n",
       "      <td>77.2</td>\n",
       "      <td>0</td>\n",
       "      <td>0</td>\n",
       "      <td>0.41</td>\n",
       "      <td>0.21</td>\n",
       "      <td>2</td>\n",
       "      <td>0</td>\n",
       "    </tr>\n",
       "    <tr>\n",
       "      <th>3</th>\n",
       "      <td>Ben Chilwell</td>\n",
       "      <td>Chelsea</td>\n",
       "      <td>ENG</td>\n",
       "      <td>DF</td>\n",
       "      <td>23</td>\n",
       "      <td>27</td>\n",
       "      <td>27</td>\n",
       "      <td>2286</td>\n",
       "      <td>3</td>\n",
       "      <td>5</td>\n",
       "      <td>1806</td>\n",
       "      <td>78.6</td>\n",
       "      <td>0</td>\n",
       "      <td>0</td>\n",
       "      <td>0.10</td>\n",
       "      <td>0.11</td>\n",
       "      <td>3</td>\n",
       "      <td>0</td>\n",
       "    </tr>\n",
       "    <tr>\n",
       "      <th>4</th>\n",
       "      <td>Reece James</td>\n",
       "      <td>Chelsea</td>\n",
       "      <td>ENG</td>\n",
       "      <td>DF</td>\n",
       "      <td>20</td>\n",
       "      <td>32</td>\n",
       "      <td>25</td>\n",
       "      <td>2373</td>\n",
       "      <td>1</td>\n",
       "      <td>2</td>\n",
       "      <td>1987</td>\n",
       "      <td>85.0</td>\n",
       "      <td>0</td>\n",
       "      <td>0</td>\n",
       "      <td>0.06</td>\n",
       "      <td>0.12</td>\n",
       "      <td>3</td>\n",
       "      <td>0</td>\n",
       "    </tr>\n",
       "    <tr>\n",
       "      <th>...</th>\n",
       "      <td>...</td>\n",
       "      <td>...</td>\n",
       "      <td>...</td>\n",
       "      <td>...</td>\n",
       "      <td>...</td>\n",
       "      <td>...</td>\n",
       "      <td>...</td>\n",
       "      <td>...</td>\n",
       "      <td>...</td>\n",
       "      <td>...</td>\n",
       "      <td>...</td>\n",
       "      <td>...</td>\n",
       "      <td>...</td>\n",
       "      <td>...</td>\n",
       "      <td>...</td>\n",
       "      <td>...</td>\n",
       "      <td>...</td>\n",
       "      <td>...</td>\n",
       "    </tr>\n",
       "    <tr>\n",
       "      <th>527</th>\n",
       "      <td>Lys Mousset</td>\n",
       "      <td>Sheffield United</td>\n",
       "      <td>FRA</td>\n",
       "      <td>FW,MF</td>\n",
       "      <td>24</td>\n",
       "      <td>11</td>\n",
       "      <td>2</td>\n",
       "      <td>296</td>\n",
       "      <td>0</td>\n",
       "      <td>0</td>\n",
       "      <td>50</td>\n",
       "      <td>80.0</td>\n",
       "      <td>0</td>\n",
       "      <td>0</td>\n",
       "      <td>0.22</td>\n",
       "      <td>0.10</td>\n",
       "      <td>0</td>\n",
       "      <td>0</td>\n",
       "    </tr>\n",
       "    <tr>\n",
       "      <th>528</th>\n",
       "      <td>Jack O'Connell</td>\n",
       "      <td>Sheffield United</td>\n",
       "      <td>ENG</td>\n",
       "      <td>DF</td>\n",
       "      <td>26</td>\n",
       "      <td>2</td>\n",
       "      <td>2</td>\n",
       "      <td>180</td>\n",
       "      <td>0</td>\n",
       "      <td>0</td>\n",
       "      <td>77</td>\n",
       "      <td>77.9</td>\n",
       "      <td>0</td>\n",
       "      <td>0</td>\n",
       "      <td>0.00</td>\n",
       "      <td>0.00</td>\n",
       "      <td>0</td>\n",
       "      <td>0</td>\n",
       "    </tr>\n",
       "    <tr>\n",
       "      <th>529</th>\n",
       "      <td>Iliman Ndiaye</td>\n",
       "      <td>Sheffield United</td>\n",
       "      <td>FRA</td>\n",
       "      <td>MF</td>\n",
       "      <td>21</td>\n",
       "      <td>1</td>\n",
       "      <td>0</td>\n",
       "      <td>12</td>\n",
       "      <td>0</td>\n",
       "      <td>0</td>\n",
       "      <td>3</td>\n",
       "      <td>100.0</td>\n",
       "      <td>0</td>\n",
       "      <td>0</td>\n",
       "      <td>0.00</td>\n",
       "      <td>0.00</td>\n",
       "      <td>0</td>\n",
       "      <td>0</td>\n",
       "    </tr>\n",
       "    <tr>\n",
       "      <th>530</th>\n",
       "      <td>Antwoine Hackford</td>\n",
       "      <td>Sheffield United</td>\n",
       "      <td>ENG</td>\n",
       "      <td>DF,FW</td>\n",
       "      <td>16</td>\n",
       "      <td>1</td>\n",
       "      <td>0</td>\n",
       "      <td>11</td>\n",
       "      <td>0</td>\n",
       "      <td>0</td>\n",
       "      <td>1</td>\n",
       "      <td>100.0</td>\n",
       "      <td>0</td>\n",
       "      <td>0</td>\n",
       "      <td>1.16</td>\n",
       "      <td>0.00</td>\n",
       "      <td>0</td>\n",
       "      <td>0</td>\n",
       "    </tr>\n",
       "    <tr>\n",
       "      <th>531</th>\n",
       "      <td>Femi Seriki</td>\n",
       "      <td>Sheffield United</td>\n",
       "      <td>ENG</td>\n",
       "      <td>DF</td>\n",
       "      <td>17</td>\n",
       "      <td>1</td>\n",
       "      <td>0</td>\n",
       "      <td>1</td>\n",
       "      <td>0</td>\n",
       "      <td>0</td>\n",
       "      <td>0</td>\n",
       "      <td>-1.0</td>\n",
       "      <td>0</td>\n",
       "      <td>0</td>\n",
       "      <td>0.00</td>\n",
       "      <td>0.00</td>\n",
       "      <td>0</td>\n",
       "      <td>0</td>\n",
       "    </tr>\n",
       "  </tbody>\n",
       "</table>\n",
       "<p>532 rows × 18 columns</p>\n",
       "</div>"
      ],
      "text/plain": [
       "                  Name              Club Nationality Position  Age  Matches  \\\n",
       "0          Mason Mount           Chelsea         ENG    MF,FW   21       36   \n",
       "1        Edouard Mendy           Chelsea         SEN       GK   28       31   \n",
       "2          Timo Werner           Chelsea         GER       FW   24       35   \n",
       "3         Ben Chilwell           Chelsea         ENG       DF   23       27   \n",
       "4          Reece James           Chelsea         ENG       DF   20       32   \n",
       "..                 ...               ...         ...      ...  ...      ...   \n",
       "527        Lys Mousset  Sheffield United         FRA    FW,MF   24       11   \n",
       "528     Jack O'Connell  Sheffield United         ENG       DF   26        2   \n",
       "529      Iliman Ndiaye  Sheffield United         FRA       MF   21        1   \n",
       "530  Antwoine Hackford  Sheffield United         ENG    DF,FW   16        1   \n",
       "531        Femi Seriki  Sheffield United         ENG       DF   17        1   \n",
       "\n",
       "     Starts  Mins  Goals  Assists  Passes_Attempted  Perc_Passes_Completed  \\\n",
       "0        32  2890      6        5              1881                   82.3   \n",
       "1        31  2745      0        0              1007                   84.6   \n",
       "2        29  2602      6        8               826                   77.2   \n",
       "3        27  2286      3        5              1806                   78.6   \n",
       "4        25  2373      1        2              1987                   85.0   \n",
       "..      ...   ...    ...      ...               ...                    ...   \n",
       "527       2   296      0        0                50                   80.0   \n",
       "528       2   180      0        0                77                   77.9   \n",
       "529       0    12      0        0                 3                  100.0   \n",
       "530       0    11      0        0                 1                  100.0   \n",
       "531       0     1      0        0                 0                   -1.0   \n",
       "\n",
       "     Penalty_Goals  Penalty_Attempted    xG    xA  Yellow_Cards  Red_Cards  \n",
       "0                1                  1  0.21  0.24             2          0  \n",
       "1                0                  0  0.00  0.00             2          0  \n",
       "2                0                  0  0.41  0.21             2          0  \n",
       "3                0                  0  0.10  0.11             3          0  \n",
       "4                0                  0  0.06  0.12             3          0  \n",
       "..             ...                ...   ...   ...           ...        ...  \n",
       "527              0                  0  0.22  0.10             0          0  \n",
       "528              0                  0  0.00  0.00             0          0  \n",
       "529              0                  0  0.00  0.00             0          0  \n",
       "530              0                  0  1.16  0.00             0          0  \n",
       "531              0                  0  0.00  0.00             0          0  \n",
       "\n",
       "[532 rows x 18 columns]"
      ]
     },
     "execution_count": 3,
     "metadata": {},
     "output_type": "execute_result"
    }
   ],
   "source": [
    "# visually assess the dataset by doing a quick look-through of the dataset.\n",
    "data"
   ]
  },
  {
   "cell_type": "markdown",
   "id": "59980352",
   "metadata": {},
   "source": [
    "- After doing a quick check of the dataset, we can see it contains **532** rows and **18** columns. It contains columns such as Nationality, Age, Position, Club, Name and some other important information about the players."
   ]
  },
  {
   "cell_type": "markdown",
   "id": "c72930bb",
   "metadata": {},
   "source": [
    "### Programatic Assessment"
   ]
  },
  {
   "cell_type": "code",
   "execution_count": 4,
   "id": "961bd50f",
   "metadata": {},
   "outputs": [
    {
     "data": {
      "text/html": [
       "<div>\n",
       "<style scoped>\n",
       "    .dataframe tbody tr th:only-of-type {\n",
       "        vertical-align: middle;\n",
       "    }\n",
       "\n",
       "    .dataframe tbody tr th {\n",
       "        vertical-align: top;\n",
       "    }\n",
       "\n",
       "    .dataframe thead th {\n",
       "        text-align: right;\n",
       "    }\n",
       "</style>\n",
       "<table border=\"1\" class=\"dataframe\">\n",
       "  <thead>\n",
       "    <tr style=\"text-align: right;\">\n",
       "      <th></th>\n",
       "      <th>Name</th>\n",
       "      <th>Club</th>\n",
       "      <th>Nationality</th>\n",
       "      <th>Position</th>\n",
       "      <th>Age</th>\n",
       "      <th>Matches</th>\n",
       "      <th>Starts</th>\n",
       "      <th>Mins</th>\n",
       "      <th>Goals</th>\n",
       "      <th>Assists</th>\n",
       "      <th>Passes_Attempted</th>\n",
       "      <th>Perc_Passes_Completed</th>\n",
       "      <th>Penalty_Goals</th>\n",
       "      <th>Penalty_Attempted</th>\n",
       "      <th>xG</th>\n",
       "      <th>xA</th>\n",
       "      <th>Yellow_Cards</th>\n",
       "      <th>Red_Cards</th>\n",
       "    </tr>\n",
       "  </thead>\n",
       "  <tbody>\n",
       "    <tr>\n",
       "      <th>0</th>\n",
       "      <td>Mason Mount</td>\n",
       "      <td>Chelsea</td>\n",
       "      <td>ENG</td>\n",
       "      <td>MF,FW</td>\n",
       "      <td>21</td>\n",
       "      <td>36</td>\n",
       "      <td>32</td>\n",
       "      <td>2890</td>\n",
       "      <td>6</td>\n",
       "      <td>5</td>\n",
       "      <td>1881</td>\n",
       "      <td>82.3</td>\n",
       "      <td>1</td>\n",
       "      <td>1</td>\n",
       "      <td>0.21</td>\n",
       "      <td>0.24</td>\n",
       "      <td>2</td>\n",
       "      <td>0</td>\n",
       "    </tr>\n",
       "    <tr>\n",
       "      <th>1</th>\n",
       "      <td>Edouard Mendy</td>\n",
       "      <td>Chelsea</td>\n",
       "      <td>SEN</td>\n",
       "      <td>GK</td>\n",
       "      <td>28</td>\n",
       "      <td>31</td>\n",
       "      <td>31</td>\n",
       "      <td>2745</td>\n",
       "      <td>0</td>\n",
       "      <td>0</td>\n",
       "      <td>1007</td>\n",
       "      <td>84.6</td>\n",
       "      <td>0</td>\n",
       "      <td>0</td>\n",
       "      <td>0.00</td>\n",
       "      <td>0.00</td>\n",
       "      <td>2</td>\n",
       "      <td>0</td>\n",
       "    </tr>\n",
       "    <tr>\n",
       "      <th>2</th>\n",
       "      <td>Timo Werner</td>\n",
       "      <td>Chelsea</td>\n",
       "      <td>GER</td>\n",
       "      <td>FW</td>\n",
       "      <td>24</td>\n",
       "      <td>35</td>\n",
       "      <td>29</td>\n",
       "      <td>2602</td>\n",
       "      <td>6</td>\n",
       "      <td>8</td>\n",
       "      <td>826</td>\n",
       "      <td>77.2</td>\n",
       "      <td>0</td>\n",
       "      <td>0</td>\n",
       "      <td>0.41</td>\n",
       "      <td>0.21</td>\n",
       "      <td>2</td>\n",
       "      <td>0</td>\n",
       "    </tr>\n",
       "    <tr>\n",
       "      <th>3</th>\n",
       "      <td>Ben Chilwell</td>\n",
       "      <td>Chelsea</td>\n",
       "      <td>ENG</td>\n",
       "      <td>DF</td>\n",
       "      <td>23</td>\n",
       "      <td>27</td>\n",
       "      <td>27</td>\n",
       "      <td>2286</td>\n",
       "      <td>3</td>\n",
       "      <td>5</td>\n",
       "      <td>1806</td>\n",
       "      <td>78.6</td>\n",
       "      <td>0</td>\n",
       "      <td>0</td>\n",
       "      <td>0.10</td>\n",
       "      <td>0.11</td>\n",
       "      <td>3</td>\n",
       "      <td>0</td>\n",
       "    </tr>\n",
       "    <tr>\n",
       "      <th>4</th>\n",
       "      <td>Reece James</td>\n",
       "      <td>Chelsea</td>\n",
       "      <td>ENG</td>\n",
       "      <td>DF</td>\n",
       "      <td>20</td>\n",
       "      <td>32</td>\n",
       "      <td>25</td>\n",
       "      <td>2373</td>\n",
       "      <td>1</td>\n",
       "      <td>2</td>\n",
       "      <td>1987</td>\n",
       "      <td>85.0</td>\n",
       "      <td>0</td>\n",
       "      <td>0</td>\n",
       "      <td>0.06</td>\n",
       "      <td>0.12</td>\n",
       "      <td>3</td>\n",
       "      <td>0</td>\n",
       "    </tr>\n",
       "  </tbody>\n",
       "</table>\n",
       "</div>"
      ],
      "text/plain": [
       "            Name     Club Nationality Position  Age  Matches  Starts  Mins  \\\n",
       "0    Mason Mount  Chelsea         ENG    MF,FW   21       36      32  2890   \n",
       "1  Edouard Mendy  Chelsea         SEN       GK   28       31      31  2745   \n",
       "2    Timo Werner  Chelsea         GER       FW   24       35      29  2602   \n",
       "3   Ben Chilwell  Chelsea         ENG       DF   23       27      27  2286   \n",
       "4    Reece James  Chelsea         ENG       DF   20       32      25  2373   \n",
       "\n",
       "   Goals  Assists  Passes_Attempted  Perc_Passes_Completed  Penalty_Goals  \\\n",
       "0      6        5              1881                   82.3              1   \n",
       "1      0        0              1007                   84.6              0   \n",
       "2      6        8               826                   77.2              0   \n",
       "3      3        5              1806                   78.6              0   \n",
       "4      1        2              1987                   85.0              0   \n",
       "\n",
       "   Penalty_Attempted    xG    xA  Yellow_Cards  Red_Cards  \n",
       "0                  1  0.21  0.24             2          0  \n",
       "1                  0  0.00  0.00             2          0  \n",
       "2                  0  0.41  0.21             2          0  \n",
       "3                  0  0.10  0.11             3          0  \n",
       "4                  0  0.06  0.12             3          0  "
      ]
     },
     "execution_count": 4,
     "metadata": {},
     "output_type": "execute_result"
    }
   ],
   "source": [
    "# For programatic assessment, I will be using code to assess the dataset\n",
    "\n",
    "# check the first 5 rows\n",
    "data.head()"
   ]
  },
  {
   "cell_type": "code",
   "execution_count": 5,
   "id": "4180150d",
   "metadata": {},
   "outputs": [
    {
     "data": {
      "text/html": [
       "<div>\n",
       "<style scoped>\n",
       "    .dataframe tbody tr th:only-of-type {\n",
       "        vertical-align: middle;\n",
       "    }\n",
       "\n",
       "    .dataframe tbody tr th {\n",
       "        vertical-align: top;\n",
       "    }\n",
       "\n",
       "    .dataframe thead th {\n",
       "        text-align: right;\n",
       "    }\n",
       "</style>\n",
       "<table border=\"1\" class=\"dataframe\">\n",
       "  <thead>\n",
       "    <tr style=\"text-align: right;\">\n",
       "      <th></th>\n",
       "      <th>Name</th>\n",
       "      <th>Club</th>\n",
       "      <th>Nationality</th>\n",
       "      <th>Position</th>\n",
       "      <th>Age</th>\n",
       "      <th>Matches</th>\n",
       "      <th>Starts</th>\n",
       "      <th>Mins</th>\n",
       "      <th>Goals</th>\n",
       "      <th>Assists</th>\n",
       "      <th>Passes_Attempted</th>\n",
       "      <th>Perc_Passes_Completed</th>\n",
       "      <th>Penalty_Goals</th>\n",
       "      <th>Penalty_Attempted</th>\n",
       "      <th>xG</th>\n",
       "      <th>xA</th>\n",
       "      <th>Yellow_Cards</th>\n",
       "      <th>Red_Cards</th>\n",
       "    </tr>\n",
       "  </thead>\n",
       "  <tbody>\n",
       "    <tr>\n",
       "      <th>527</th>\n",
       "      <td>Lys Mousset</td>\n",
       "      <td>Sheffield United</td>\n",
       "      <td>FRA</td>\n",
       "      <td>FW,MF</td>\n",
       "      <td>24</td>\n",
       "      <td>11</td>\n",
       "      <td>2</td>\n",
       "      <td>296</td>\n",
       "      <td>0</td>\n",
       "      <td>0</td>\n",
       "      <td>50</td>\n",
       "      <td>80.0</td>\n",
       "      <td>0</td>\n",
       "      <td>0</td>\n",
       "      <td>0.22</td>\n",
       "      <td>0.1</td>\n",
       "      <td>0</td>\n",
       "      <td>0</td>\n",
       "    </tr>\n",
       "    <tr>\n",
       "      <th>528</th>\n",
       "      <td>Jack O'Connell</td>\n",
       "      <td>Sheffield United</td>\n",
       "      <td>ENG</td>\n",
       "      <td>DF</td>\n",
       "      <td>26</td>\n",
       "      <td>2</td>\n",
       "      <td>2</td>\n",
       "      <td>180</td>\n",
       "      <td>0</td>\n",
       "      <td>0</td>\n",
       "      <td>77</td>\n",
       "      <td>77.9</td>\n",
       "      <td>0</td>\n",
       "      <td>0</td>\n",
       "      <td>0.00</td>\n",
       "      <td>0.0</td>\n",
       "      <td>0</td>\n",
       "      <td>0</td>\n",
       "    </tr>\n",
       "    <tr>\n",
       "      <th>529</th>\n",
       "      <td>Iliman Ndiaye</td>\n",
       "      <td>Sheffield United</td>\n",
       "      <td>FRA</td>\n",
       "      <td>MF</td>\n",
       "      <td>21</td>\n",
       "      <td>1</td>\n",
       "      <td>0</td>\n",
       "      <td>12</td>\n",
       "      <td>0</td>\n",
       "      <td>0</td>\n",
       "      <td>3</td>\n",
       "      <td>100.0</td>\n",
       "      <td>0</td>\n",
       "      <td>0</td>\n",
       "      <td>0.00</td>\n",
       "      <td>0.0</td>\n",
       "      <td>0</td>\n",
       "      <td>0</td>\n",
       "    </tr>\n",
       "    <tr>\n",
       "      <th>530</th>\n",
       "      <td>Antwoine Hackford</td>\n",
       "      <td>Sheffield United</td>\n",
       "      <td>ENG</td>\n",
       "      <td>DF,FW</td>\n",
       "      <td>16</td>\n",
       "      <td>1</td>\n",
       "      <td>0</td>\n",
       "      <td>11</td>\n",
       "      <td>0</td>\n",
       "      <td>0</td>\n",
       "      <td>1</td>\n",
       "      <td>100.0</td>\n",
       "      <td>0</td>\n",
       "      <td>0</td>\n",
       "      <td>1.16</td>\n",
       "      <td>0.0</td>\n",
       "      <td>0</td>\n",
       "      <td>0</td>\n",
       "    </tr>\n",
       "    <tr>\n",
       "      <th>531</th>\n",
       "      <td>Femi Seriki</td>\n",
       "      <td>Sheffield United</td>\n",
       "      <td>ENG</td>\n",
       "      <td>DF</td>\n",
       "      <td>17</td>\n",
       "      <td>1</td>\n",
       "      <td>0</td>\n",
       "      <td>1</td>\n",
       "      <td>0</td>\n",
       "      <td>0</td>\n",
       "      <td>0</td>\n",
       "      <td>-1.0</td>\n",
       "      <td>0</td>\n",
       "      <td>0</td>\n",
       "      <td>0.00</td>\n",
       "      <td>0.0</td>\n",
       "      <td>0</td>\n",
       "      <td>0</td>\n",
       "    </tr>\n",
       "  </tbody>\n",
       "</table>\n",
       "</div>"
      ],
      "text/plain": [
       "                  Name              Club Nationality Position  Age  Matches  \\\n",
       "527        Lys Mousset  Sheffield United         FRA    FW,MF   24       11   \n",
       "528     Jack O'Connell  Sheffield United         ENG       DF   26        2   \n",
       "529      Iliman Ndiaye  Sheffield United         FRA       MF   21        1   \n",
       "530  Antwoine Hackford  Sheffield United         ENG    DF,FW   16        1   \n",
       "531        Femi Seriki  Sheffield United         ENG       DF   17        1   \n",
       "\n",
       "     Starts  Mins  Goals  Assists  Passes_Attempted  Perc_Passes_Completed  \\\n",
       "527       2   296      0        0                50                   80.0   \n",
       "528       2   180      0        0                77                   77.9   \n",
       "529       0    12      0        0                 3                  100.0   \n",
       "530       0    11      0        0                 1                  100.0   \n",
       "531       0     1      0        0                 0                   -1.0   \n",
       "\n",
       "     Penalty_Goals  Penalty_Attempted    xG   xA  Yellow_Cards  Red_Cards  \n",
       "527              0                  0  0.22  0.1             0          0  \n",
       "528              0                  0  0.00  0.0             0          0  \n",
       "529              0                  0  0.00  0.0             0          0  \n",
       "530              0                  0  1.16  0.0             0          0  \n",
       "531              0                  0  0.00  0.0             0          0  "
      ]
     },
     "execution_count": 5,
     "metadata": {},
     "output_type": "execute_result"
    }
   ],
   "source": [
    "# check the last 5 rows\n",
    "data.tail()"
   ]
  },
  {
   "cell_type": "code",
   "execution_count": 6,
   "id": "12e09f6e",
   "metadata": {},
   "outputs": [
    {
     "name": "stdout",
     "output_type": "stream",
     "text": [
      "<class 'pandas.core.frame.DataFrame'>\n",
      "RangeIndex: 532 entries, 0 to 531\n",
      "Data columns (total 18 columns):\n",
      " #   Column                 Non-Null Count  Dtype  \n",
      "---  ------                 --------------  -----  \n",
      " 0   Name                   532 non-null    object \n",
      " 1   Club                   532 non-null    object \n",
      " 2   Nationality            532 non-null    object \n",
      " 3   Position               532 non-null    object \n",
      " 4   Age                    532 non-null    int64  \n",
      " 5   Matches                532 non-null    int64  \n",
      " 6   Starts                 532 non-null    int64  \n",
      " 7   Mins                   532 non-null    int64  \n",
      " 8   Goals                  532 non-null    int64  \n",
      " 9   Assists                532 non-null    int64  \n",
      " 10  Passes_Attempted       532 non-null    int64  \n",
      " 11  Perc_Passes_Completed  532 non-null    float64\n",
      " 12  Penalty_Goals          532 non-null    int64  \n",
      " 13  Penalty_Attempted      532 non-null    int64  \n",
      " 14  xG                     532 non-null    float64\n",
      " 15  xA                     532 non-null    float64\n",
      " 16  Yellow_Cards           532 non-null    int64  \n",
      " 17  Red_Cards              532 non-null    int64  \n",
      "dtypes: float64(3), int64(11), object(4)\n",
      "memory usage: 74.9+ KB\n"
     ]
    }
   ],
   "source": [
    "# use the info() function\n",
    "data.info()"
   ]
  },
  {
   "cell_type": "code",
   "execution_count": 7,
   "id": "8618685a",
   "metadata": {},
   "outputs": [
    {
     "data": {
      "text/html": [
       "<div>\n",
       "<style scoped>\n",
       "    .dataframe tbody tr th:only-of-type {\n",
       "        vertical-align: middle;\n",
       "    }\n",
       "\n",
       "    .dataframe tbody tr th {\n",
       "        vertical-align: top;\n",
       "    }\n",
       "\n",
       "    .dataframe thead th {\n",
       "        text-align: right;\n",
       "    }\n",
       "</style>\n",
       "<table border=\"1\" class=\"dataframe\">\n",
       "  <thead>\n",
       "    <tr style=\"text-align: right;\">\n",
       "      <th></th>\n",
       "      <th>Age</th>\n",
       "      <th>Matches</th>\n",
       "      <th>Starts</th>\n",
       "      <th>Mins</th>\n",
       "      <th>Goals</th>\n",
       "      <th>Assists</th>\n",
       "      <th>Passes_Attempted</th>\n",
       "      <th>Perc_Passes_Completed</th>\n",
       "      <th>Penalty_Goals</th>\n",
       "      <th>Penalty_Attempted</th>\n",
       "      <th>xG</th>\n",
       "      <th>xA</th>\n",
       "      <th>Yellow_Cards</th>\n",
       "      <th>Red_Cards</th>\n",
       "    </tr>\n",
       "  </thead>\n",
       "  <tbody>\n",
       "    <tr>\n",
       "      <th>count</th>\n",
       "      <td>532.000000</td>\n",
       "      <td>532.000000</td>\n",
       "      <td>532.000000</td>\n",
       "      <td>532.000000</td>\n",
       "      <td>532.000000</td>\n",
       "      <td>532.000000</td>\n",
       "      <td>532.000000</td>\n",
       "      <td>532.000000</td>\n",
       "      <td>532.000000</td>\n",
       "      <td>532.000000</td>\n",
       "      <td>532.000000</td>\n",
       "      <td>532.000000</td>\n",
       "      <td>532.000000</td>\n",
       "      <td>532.000000</td>\n",
       "    </tr>\n",
       "    <tr>\n",
       "      <th>mean</th>\n",
       "      <td>25.500000</td>\n",
       "      <td>19.535714</td>\n",
       "      <td>15.714286</td>\n",
       "      <td>1411.443609</td>\n",
       "      <td>1.853383</td>\n",
       "      <td>1.287594</td>\n",
       "      <td>717.750000</td>\n",
       "      <td>77.823872</td>\n",
       "      <td>0.191729</td>\n",
       "      <td>0.234962</td>\n",
       "      <td>0.113289</td>\n",
       "      <td>0.072650</td>\n",
       "      <td>2.114662</td>\n",
       "      <td>0.090226</td>\n",
       "    </tr>\n",
       "    <tr>\n",
       "      <th>std</th>\n",
       "      <td>4.319404</td>\n",
       "      <td>11.840459</td>\n",
       "      <td>11.921161</td>\n",
       "      <td>1043.171856</td>\n",
       "      <td>3.338009</td>\n",
       "      <td>2.095191</td>\n",
       "      <td>631.372522</td>\n",
       "      <td>13.011631</td>\n",
       "      <td>0.850881</td>\n",
       "      <td>0.975818</td>\n",
       "      <td>0.148174</td>\n",
       "      <td>0.090072</td>\n",
       "      <td>2.269094</td>\n",
       "      <td>0.293268</td>\n",
       "    </tr>\n",
       "    <tr>\n",
       "      <th>min</th>\n",
       "      <td>16.000000</td>\n",
       "      <td>1.000000</td>\n",
       "      <td>0.000000</td>\n",
       "      <td>1.000000</td>\n",
       "      <td>0.000000</td>\n",
       "      <td>0.000000</td>\n",
       "      <td>0.000000</td>\n",
       "      <td>-1.000000</td>\n",
       "      <td>0.000000</td>\n",
       "      <td>0.000000</td>\n",
       "      <td>0.000000</td>\n",
       "      <td>0.000000</td>\n",
       "      <td>0.000000</td>\n",
       "      <td>0.000000</td>\n",
       "    </tr>\n",
       "    <tr>\n",
       "      <th>25%</th>\n",
       "      <td>22.000000</td>\n",
       "      <td>9.000000</td>\n",
       "      <td>4.000000</td>\n",
       "      <td>426.000000</td>\n",
       "      <td>0.000000</td>\n",
       "      <td>0.000000</td>\n",
       "      <td>171.500000</td>\n",
       "      <td>73.500000</td>\n",
       "      <td>0.000000</td>\n",
       "      <td>0.000000</td>\n",
       "      <td>0.010000</td>\n",
       "      <td>0.000000</td>\n",
       "      <td>0.000000</td>\n",
       "      <td>0.000000</td>\n",
       "    </tr>\n",
       "    <tr>\n",
       "      <th>50%</th>\n",
       "      <td>26.000000</td>\n",
       "      <td>21.000000</td>\n",
       "      <td>15.000000</td>\n",
       "      <td>1345.000000</td>\n",
       "      <td>1.000000</td>\n",
       "      <td>0.000000</td>\n",
       "      <td>573.500000</td>\n",
       "      <td>79.200000</td>\n",
       "      <td>0.000000</td>\n",
       "      <td>0.000000</td>\n",
       "      <td>0.060000</td>\n",
       "      <td>0.050000</td>\n",
       "      <td>2.000000</td>\n",
       "      <td>0.000000</td>\n",
       "    </tr>\n",
       "    <tr>\n",
       "      <th>75%</th>\n",
       "      <td>29.000000</td>\n",
       "      <td>30.000000</td>\n",
       "      <td>27.000000</td>\n",
       "      <td>2303.500000</td>\n",
       "      <td>2.000000</td>\n",
       "      <td>2.000000</td>\n",
       "      <td>1129.500000</td>\n",
       "      <td>84.625000</td>\n",
       "      <td>0.000000</td>\n",
       "      <td>0.000000</td>\n",
       "      <td>0.150000</td>\n",
       "      <td>0.110000</td>\n",
       "      <td>3.000000</td>\n",
       "      <td>0.000000</td>\n",
       "    </tr>\n",
       "    <tr>\n",
       "      <th>max</th>\n",
       "      <td>38.000000</td>\n",
       "      <td>38.000000</td>\n",
       "      <td>38.000000</td>\n",
       "      <td>3420.000000</td>\n",
       "      <td>23.000000</td>\n",
       "      <td>14.000000</td>\n",
       "      <td>3214.000000</td>\n",
       "      <td>100.000000</td>\n",
       "      <td>9.000000</td>\n",
       "      <td>10.000000</td>\n",
       "      <td>1.160000</td>\n",
       "      <td>0.900000</td>\n",
       "      <td>12.000000</td>\n",
       "      <td>2.000000</td>\n",
       "    </tr>\n",
       "  </tbody>\n",
       "</table>\n",
       "</div>"
      ],
      "text/plain": [
       "              Age     Matches      Starts         Mins       Goals  \\\n",
       "count  532.000000  532.000000  532.000000   532.000000  532.000000   \n",
       "mean    25.500000   19.535714   15.714286  1411.443609    1.853383   \n",
       "std      4.319404   11.840459   11.921161  1043.171856    3.338009   \n",
       "min     16.000000    1.000000    0.000000     1.000000    0.000000   \n",
       "25%     22.000000    9.000000    4.000000   426.000000    0.000000   \n",
       "50%     26.000000   21.000000   15.000000  1345.000000    1.000000   \n",
       "75%     29.000000   30.000000   27.000000  2303.500000    2.000000   \n",
       "max     38.000000   38.000000   38.000000  3420.000000   23.000000   \n",
       "\n",
       "          Assists  Passes_Attempted  Perc_Passes_Completed  Penalty_Goals  \\\n",
       "count  532.000000        532.000000             532.000000     532.000000   \n",
       "mean     1.287594        717.750000              77.823872       0.191729   \n",
       "std      2.095191        631.372522              13.011631       0.850881   \n",
       "min      0.000000          0.000000              -1.000000       0.000000   \n",
       "25%      0.000000        171.500000              73.500000       0.000000   \n",
       "50%      0.000000        573.500000              79.200000       0.000000   \n",
       "75%      2.000000       1129.500000              84.625000       0.000000   \n",
       "max     14.000000       3214.000000             100.000000       9.000000   \n",
       "\n",
       "       Penalty_Attempted          xG          xA  Yellow_Cards   Red_Cards  \n",
       "count         532.000000  532.000000  532.000000    532.000000  532.000000  \n",
       "mean            0.234962    0.113289    0.072650      2.114662    0.090226  \n",
       "std             0.975818    0.148174    0.090072      2.269094    0.293268  \n",
       "min             0.000000    0.000000    0.000000      0.000000    0.000000  \n",
       "25%             0.000000    0.010000    0.000000      0.000000    0.000000  \n",
       "50%             0.000000    0.060000    0.050000      2.000000    0.000000  \n",
       "75%             0.000000    0.150000    0.110000      3.000000    0.000000  \n",
       "max            10.000000    1.160000    0.900000     12.000000    2.000000  "
      ]
     },
     "execution_count": 7,
     "metadata": {},
     "output_type": "execute_result"
    }
   ],
   "source": [
    "# check for descriptive statistics\n",
    "data.describe()"
   ]
  },
  {
   "cell_type": "markdown",
   "id": "cb3b03fb",
   "metadata": {},
   "source": [
    "- From the data above, we can see that the average age for the league was around age 26. We can also see that on average most players got around 1411 mintues of gametime but this is heavily skewed by goalkeepers who usually play the full 90 mintues for almost every single game. "
   ]
  },
  {
   "cell_type": "markdown",
   "id": "cb8bbe18",
   "metadata": {},
   "source": [
    "### Cleaning\n",
    "\n",
    "- Assessment of the dataset brought up  no issues that required cleaning."
   ]
  },
  {
   "cell_type": "code",
   "execution_count": 8,
   "id": "7c810073",
   "metadata": {},
   "outputs": [],
   "source": [
    "# Create a copy of the dataset and name it 'df'\n",
    "df = data.copy()"
   ]
  },
  {
   "cell_type": "markdown",
   "id": "07b8de59",
   "metadata": {},
   "source": [
    "# Exploration and Visualization"
   ]
  },
  {
   "cell_type": "markdown",
   "id": "92013c50",
   "metadata": {},
   "source": [
    "### Research Question 1: Which team has the youngest squad."
   ]
  },
  {
   "cell_type": "markdown",
   "id": "961a97c6",
   "metadata": {},
   "source": [
    "For this question, I will be doing the following:\n",
    "- We will examine the Age column.\n",
    "- Plot a histogram of the Age column\n",
    "- Plot a barchart showing the team with the youngest sqaud."
   ]
  },
  {
   "cell_type": "code",
   "execution_count": 9,
   "id": "931f1c1b",
   "metadata": {},
   "outputs": [
    {
     "data": {
      "text/plain": [
       "count    532.000000\n",
       "mean      25.500000\n",
       "std        4.319404\n",
       "min       16.000000\n",
       "25%       22.000000\n",
       "50%       26.000000\n",
       "75%       29.000000\n",
       "max       38.000000\n",
       "Name: Age, dtype: float64"
      ]
     },
     "execution_count": 9,
     "metadata": {},
     "output_type": "execute_result"
    }
   ],
   "source": [
    "# examine the age column\n",
    "df.Age.describe()"
   ]
  },
  {
   "cell_type": "code",
   "execution_count": 10,
   "id": "27620ad7",
   "metadata": {},
   "outputs": [
    {
     "data": {
      "text/plain": [
       "<AxesSubplot:>"
      ]
     },
     "execution_count": 10,
     "metadata": {},
     "output_type": "execute_result"
    },
    {
     "data": {
      "image/png": "[encoded data removed]",
      "text/plain": [
       "<Figure size 432x288 with 1 Axes>"
      ]
     },
     "metadata": {
      "needs_background": "light"
     },
     "output_type": "display_data"
    }
   ],
   "source": [
    "# create a histogram of the age column\n",
    "df.Age.hist()"
   ]
  },
  {
   "cell_type": "markdown",
   "id": "1ef07dad",
   "metadata": {},
   "source": [
    "- From the histogram above, we can observe that a majority of the players in the league are between the ages of 25 and 30."
   ]
  },
  {
   "cell_type": "code",
   "execution_count": 20,
   "id": "0e90a21a",
   "metadata": {},
   "outputs": [],
   "source": [
    "# Find the average age of each club and sort in ascending order\n",
    "# assign the sorted values to a variable 'Yng_squad'\n",
    "Yng_squad = df.groupby('Club')['Age'].mean().sort_values()"
   ]
  },
  {
   "cell_type": "code",
   "execution_count": 28,
   "id": "44d0940d",
   "metadata": {},
   "outputs": [
    {
     "data": {
      "text/plain": [
       "Club\n",
       "Manchester United          23.862069\n",
       "Southampton                24.137931\n",
       "Aston Villa                24.291667\n",
       "Wolverhampton Wanderers    24.444444\n",
       "Brighton                   24.555556\n",
       "Sheffield United           24.814815\n",
       "Arsenal                    24.965517\n",
       "Fulham                     25.035714\n",
       "Leeds United               25.347826\n",
       "Everton                    25.413793\n",
       "Liverpool FC               25.571429\n",
       "Chelsea                    25.592593\n",
       "Leicester City             25.592593\n",
       "Tottenham Hotspur          25.625000\n",
       "Manchester City            25.708333\n",
       "Newcastle United           26.074074\n",
       "West Bromwich Albion       26.766667\n",
       "Burnley                    27.040000\n",
       "West Ham United            27.500000\n",
       "Crystal Palace             28.333333\n",
       "Name: Age, dtype: float64"
      ]
     },
     "execution_count": 28,
     "metadata": {},
     "output_type": "execute_result"
    }
   ],
   "source": [
    "Yng_squad"
   ]
  },
  {
   "cell_type": "code",
   "execution_count": 153,
   "id": "a58c77d8",
   "metadata": {
    "scrolled": false
   },
   "outputs": [
    {
     "data": {
      "image/png": "[encoded data removed]",
      "text/plain": [
       "<Figure size 1008x432 with 1 Axes>"
      ]
     },
     "metadata": {
      "needs_background": "light"
     },
     "output_type": "display_data"
    }
   ],
   "source": [
    "# plot chart\n",
    "plt.figure(figsize=(14,6))\n",
    "Yng_squad.plot(kind='barh', color='lightgreen')\n",
    "plt.title('Average Age Per Club for the 20/21 EPL Season',fontsize=20, fontweight='bold')\n",
    "plt.ylabel('Average Age', fontsize=15, fontweight='bold')\n",
    "plt.show()"
   ]
  },
  {
   "cell_type": "markdown",
   "id": "93feca81",
   "metadata": {},
   "source": [
    "### Insights observed:\n",
    "- Manchester United had the youngest squad with an average age of 23.86, roughly 24 years.\n",
    "- Crystal palace had the oldest squad with an average age of 28.33 roughly 28 years."
   ]
  },
  {
   "cell_type": "markdown",
   "id": "c9f2eabc",
   "metadata": {},
   "source": [
    "### Research Question 2: Which non-english countries had the most players in the league."
   ]
  },
  {
   "cell_type": "markdown",
   "id": "93336cd4",
   "metadata": {},
   "source": [
    "> This question will be addressed in the following ways:\n",
    "- Eamine the Nationality column.\n",
    "- Create a dataframe that excludes English players.\n",
    "- Use the created dataframe to plot a bar chart showing the Nationalities with the most players in the league."
   ]
  },
  {
   "cell_type": "code",
   "execution_count": 29,
   "id": "a5ac1aab",
   "metadata": {},
   "outputs": [
    {
     "data": {
      "text/plain": [
       "count     532\n",
       "unique     59\n",
       "top       ENG\n",
       "freq      192\n",
       "Name: Nationality, dtype: object"
      ]
     },
     "execution_count": 29,
     "metadata": {},
     "output_type": "execute_result"
    }
   ],
   "source": [
    "# Examine the Nationality clumn\n",
    "df.Nationality.describe()"
   ]
  },
  {
   "cell_type": "code",
   "execution_count": 30,
   "id": "787d6fe5",
   "metadata": {},
   "outputs": [
    {
     "data": {
      "text/plain": [
       "array(['ENG', 'SEN', 'GER', 'ESP', 'FRA', 'ITA', 'BRA', 'CRO', 'USA',\n",
       "       'DEN', 'MAR', 'SCO', 'ARG', 'POR', 'BEL', 'ALG', 'UKR', 'NED',\n",
       "       'SWE', 'URU', 'SRB', 'WAL', 'CIV', 'NGA', 'EGY', 'TUR', 'CMR',\n",
       "       'GUI', 'SUI', 'JPN', 'IRL', 'GRE', 'NIR', 'GHA', 'AUT', 'JAM',\n",
       "       'RSA', 'CZE', 'POL', 'PAR', 'COD', 'KOR', 'COL', 'GAB', 'NOR',\n",
       "       'AUS', 'BIH', 'ISL', 'MKD', 'BFA', 'ZIM', 'SVK', 'MEX', 'CAN',\n",
       "       'MLI', 'IRN', 'NZL', 'MTN', 'SKN'], dtype=object)"
      ]
     },
     "execution_count": 30,
     "metadata": {},
     "output_type": "execute_result"
    }
   ],
   "source": [
    "# show the unique values\n",
    "df.Nationality.unique()"
   ]
  },
  {
   "cell_type": "code",
   "execution_count": 33,
   "id": "6bea0439",
   "metadata": {},
   "outputs": [],
   "source": [
    "# create a new dataframe containing non-english players\n",
    "non_eng = df[df.Nationality!='ENG']"
   ]
  },
  {
   "cell_type": "markdown",
   "id": "a2a875ac",
   "metadata": {},
   "source": [
    "- I also want to see top countries with the highest number of players exported to the EPL, therefore the chart below will only show the top 10 countries with the most foreign players in the league."
   ]
  },
  {
   "cell_type": "code",
   "execution_count": 154,
   "id": "1d4387bc",
   "metadata": {},
   "outputs": [],
   "source": [
    "\n",
    "non_eng_plot = non_eng.Nationality.value_counts()"
   ]
  },
  {
   "cell_type": "code",
   "execution_count": 130,
   "id": "3bcde7d9",
   "metadata": {},
   "outputs": [
    {
     "data": {
      "image/png": "[encoded data removed]",
      "text/plain": [
       "<Figure size 1008x432 with 1 Axes>"
      ]
     },
     "metadata": {
      "needs_background": "light"
     },
     "output_type": "display_data"
    }
   ],
   "source": [
    "# Plot barchart\n",
    "plt.figure(figsize=(14,6))\n",
    "non_eng_plot.plot(kind='bar')\n",
    "plt.xlim(0,10)\n",
    "plt.title('Foreign Countries With The Most Players in the League',fontsize=20, fontweight='bold')\n",
    "plt.xlabel('Countries', fontsize=15, fontweight='bold')\n",
    "plt.ylabel('Number of Players in the league', fontsize=15, fontweight='bold')\n",
    "plt.show()"
   ]
  },
  {
   "cell_type": "markdown",
   "id": "d1b1bedd",
   "metadata": {},
   "source": [
    "- From the chart above, we observe that France has the most foreign players in the league, followed by brazil and then spain."
   ]
  },
  {
   "cell_type": "markdown",
   "id": "36c12d0c",
   "metadata": {},
   "source": [
    "### Research Question 3: The teams with the worst disciplinary record."
   ]
  },
  {
   "cell_type": "markdown",
   "id": "3c5dbedf",
   "metadata": {},
   "source": [
    ">This question will be addressed through the following steps:\n",
    "- Extract the clubs with poor displinary records.\n",
    "- Plot a barchart showing the teams with poor displinary records."
   ]
  },
  {
   "cell_type": "code",
   "execution_count": 132,
   "id": "d36046f8",
   "metadata": {},
   "outputs": [],
   "source": [
    "# find the amount of yellow cards each club received and sort in descending order\n",
    "yel_crd = df.groupby('Club')['Yellow_Cards'].sum().sort_values(ascending=False)"
   ]
  },
  {
   "cell_type": "code",
   "execution_count": 133,
   "id": "15318a77",
   "metadata": {},
   "outputs": [
    {
     "data": {
      "text/plain": [
       "Club\n",
       "Sheffield United           73\n",
       "Aston Villa                71\n",
       "Fulham                     67\n",
       "Newcastle United           65\n",
       "Manchester United          64\n",
       "Leeds United               61\n",
       "Leicester City             61\n",
       "Everton                    59\n",
       "Tottenham Hotspur          57\n",
       "Crystal Palace             56\n",
       "Wolverhampton Wanderers    55\n",
       "Southampton                52\n",
       "West Bromwich Albion       51\n",
       "Chelsea                    51\n",
       "West Ham United            50\n",
       "Arsenal                    49\n",
       "Brighton                   49\n",
       "Burnley                    48\n",
       "Manchester City            46\n",
       "Liverpool FC               40\n",
       "Name: Yellow_Cards, dtype: int64"
      ]
     },
     "execution_count": 133,
     "metadata": {},
     "output_type": "execute_result"
    }
   ],
   "source": [
    "yel_crd"
   ]
  },
  {
   "cell_type": "code",
   "execution_count": 137,
   "id": "0f27cd06",
   "metadata": {},
   "outputs": [
    {
     "data": {
      "image/png": "[encoded data removed]",
      "text/plain": [
       "<Figure size 1008x432 with 1 Axes>"
      ]
     },
     "metadata": {
      "needs_background": "light"
     },
     "output_type": "display_data"
    }
   ],
   "source": [
    "# Plot barchart\n",
    "plt.figure(figsize=(14,6))\n",
    "yel_crd.plot(kind='bar', color='orange')\n",
    "plt.title('Yellow Cards By Club',fontsize=20, fontweight='bold')\n",
    "plt.xlabel('Clubs', fontsize=15, fontweight='bold')\n",
    "plt.show()"
   ]
  },
  {
   "cell_type": "markdown",
   "id": "494c7fae",
   "metadata": {},
   "source": [
    "- From the chart above, we can see that the players for Sheffield United and Aston villa received the most yellow cards during the season. We also observe that players for Manchester city and Liverpool received the least amount of yellow cards during the season."
   ]
  },
  {
   "cell_type": "code",
   "execution_count": 89,
   "id": "3a660004",
   "metadata": {},
   "outputs": [],
   "source": [
    "# find the amount of red cards each club received and sort in descending order\n",
    "red_crd = df.groupby('Club')['Red_Cards'].sum().sort_values(ascending=False)"
   ]
  },
  {
   "cell_type": "code",
   "execution_count": 90,
   "id": "f9ac82dc",
   "metadata": {},
   "outputs": [
    {
     "data": {
      "text/plain": [
       "Club\n",
       "Brighton                   6\n",
       "Arsenal                    5\n",
       "West Bromwich Albion       4\n",
       "Aston Villa                4\n",
       "Sheffield United           3\n",
       "West Ham United            3\n",
       "Chelsea                    3\n",
       "Fulham                     3\n",
       "Southampton                3\n",
       "Newcastle United           3\n",
       "Crystal Palace             2\n",
       "Everton                    2\n",
       "Tottenham Hotspur          2\n",
       "Manchester City            2\n",
       "Wolverhampton Wanderers    1\n",
       "Manchester United          1\n",
       "Leeds United               1\n",
       "Leicester City             0\n",
       "Burnley                    0\n",
       "Liverpool FC               0\n",
       "Name: Red_Cards, dtype: int64"
      ]
     },
     "execution_count": 90,
     "metadata": {},
     "output_type": "execute_result"
    }
   ],
   "source": [
    "red_crd"
   ]
  },
  {
   "cell_type": "code",
   "execution_count": 136,
   "id": "718088e5",
   "metadata": {},
   "outputs": [
    {
     "data": {
      "image/png": "[encoded data removed]",
      "text/plain": [
       "<Figure size 1008x432 with 1 Axes>"
      ]
     },
     "metadata": {
      "needs_background": "light"
     },
     "output_type": "display_data"
    }
   ],
   "source": [
    "# Plot barchart\n",
    "plt.figure(figsize=(14,6))\n",
    "red_crd.plot(kind='bar', color='green')\n",
    "plt.title('Red Cards By Club',fontsize=20, fontweight='bold')\n",
    "plt.xlabel('Clubs', fontsize=15, fontweight='bold')\n",
    "plt.show()"
   ]
  },
  {
   "cell_type": "markdown",
   "id": "d656d0f0",
   "metadata": {},
   "source": [
    "- From the chart above, we observe that Brighton and Arsenal received the most red cards, while no player from Leicester, Burnley and liverpool receievd a red card."
   ]
  },
  {
   "cell_type": "markdown",
   "id": "348bd2b6",
   "metadata": {},
   "source": [
    "### Research Question 4: Which outfield players played the most minutes."
   ]
  },
  {
   "cell_type": "markdown",
   "id": "dd54b6b6",
   "metadata": {},
   "source": [
    ">This question will be addressed through the following steps:\n",
    "- Extract all outfield(non GK) players into a new dataframe.\n",
    "- Extract the players with the most playing time for the season.\n",
    "- plot a graph showing the top ten players with that played the most minutes."
   ]
  },
  {
   "cell_type": "code",
   "execution_count": 100,
   "id": "56d673a0",
   "metadata": {},
   "outputs": [],
   "source": [
    "# Extract all outfield(non GK) players into a new dataframe called 'out_fld'\n",
    "out_fld = df[df.Position!='GK']"
   ]
  },
  {
   "cell_type": "code",
   "execution_count": 107,
   "id": "5027a1d9",
   "metadata": {},
   "outputs": [
    {
     "data": {
      "text/plain": [
       "Name\n",
       "James Ward-Prowse         3420.0\n",
       "Pierre Højbjerg           3420.0\n",
       "Tomáš Souček              3419.0\n",
       "Ashley Westwood           3410.0\n",
       "Stuart Dallas             3409.0\n",
       "                           ...  \n",
       "Jayson Molumby               1.0\n",
       "William Thomas Fish          1.0\n",
       "Femi Seriki                  1.0\n",
       "Dane Scarlett                1.0\n",
       "Jaden Philogene Bidace       1.0\n",
       "Name: Mins, Length: 483, dtype: float64"
      ]
     },
     "execution_count": 107,
     "metadata": {},
     "output_type": "execute_result"
    }
   ],
   "source": [
    "# find the players with the highest number of minutes played\n",
    "out_fld.groupby('Name')['Mins'].mean().sort_values(ascending=False)"
   ]
  },
  {
   "cell_type": "code",
   "execution_count": 108,
   "id": "91dd44f8",
   "metadata": {},
   "outputs": [],
   "source": [
    "# create a variable for players with highest number of minutes played\n",
    "Min_high = out_fld.groupby('Name')['Mins'].mean().sort_values(ascending=False)"
   ]
  },
  {
   "cell_type": "markdown",
   "id": "9e811d77",
   "metadata": {},
   "source": [
    "- For the plot below, I only want to show the top 10 players in regards to minutes played for the season."
   ]
  },
  {
   "cell_type": "code",
   "execution_count": 119,
   "id": "ccfa4bcb",
   "metadata": {},
   "outputs": [
    {
     "data": {
      "image/png": "[encoded data removed]",
      "text/plain": [
       "<Figure size 1008x432 with 1 Axes>"
      ]
     },
     "metadata": {
      "needs_background": "light"
     },
     "output_type": "display_data"
    }
   ],
   "source": [
    "# plot a graph showing the top ten players with that played the most minutes.\n",
    "plt.figure(figsize=(14,6))\n",
    "Min_high.plot(kind='bar')\n",
    "plt.xlim(0,10)\n",
    "plt.title('Players With The Most Minutes For The Season',fontsize=20, fontweight='bold')\n",
    "plt.xlabel('Players', fontsize=15, fontweight='bold')\n",
    "plt.show()"
   ]
  },
  {
   "cell_type": "markdown",
   "id": "17b47405",
   "metadata": {},
   "source": [
    "- The chart above shows the top 10 players who had the most minutes on the field for the season. A quick observation is that  **Andrew Robertson** and **Youri Tielemans** also played european club competitions. That means there were times during the season where both players were playing a game every three days. The other players on the list did not have that challenge.\n",
    "\n",
    "- **James Ward-Prowse** and **Pierre Hojbjerg** had the highest number of minutes with 3420. Coincedentally, both players played for Southampton for this season. It is important to note that each club plays 38 EPL games in a season and each match is 90 mintues for regular time. Therefore, a minute count of 38 matches means that both these players played every single minute of the 20/21 EPL season."
   ]
  },
  {
   "cell_type": "markdown",
   "id": "b294cfa9",
   "metadata": {},
   "source": [
    "### Research Question 5: Which teams received the most penalties."
   ]
  },
  {
   "cell_type": "markdown",
   "id": "151192e9",
   "metadata": {},
   "source": [
    ">This question will be addressed through the following steps:\n",
    "\n",
    "- Extract the number of penalties scored by each club.\n",
    "- Plot a chart showing the team awarded the most penalties.\n",
    "- Calculate the penalty conversion rate for each team.\n",
    "- Plot a graph showing the top 5 teams with the highest conversion rate.\n",
    "- Plot a graph showing the teams with the lowest conversion rate."
   ]
  },
  {
   "cell_type": "code",
   "execution_count": 112,
   "id": "ed0d4af3",
   "metadata": {},
   "outputs": [],
   "source": [
    "# Extract the number of penalties awarded to each club in descending order\n",
    "pen_ard = df.groupby('Club')['Penalty_Attempted'].sum().sort_values(ascending=False)"
   ]
  },
  {
   "cell_type": "code",
   "execution_count": 113,
   "id": "996c8468",
   "metadata": {},
   "outputs": [
    {
     "data": {
      "text/plain": [
       "Club\n",
       "Leicester City             12\n",
       "Manchester United          11\n",
       "Chelsea                    10\n",
       "Brighton                    9\n",
       "Manchester City             9\n",
       "Newcastle United            7\n",
       "Arsenal                     6\n",
       "Southampton                 6\n",
       "Aston Villa                 6\n",
       "Liverpool FC                6\n",
       "Fulham                      6\n",
       "Everton                     5\n",
       "Tottenham Hotspur           5\n",
       "Leeds United                4\n",
       "Crystal Palace              4\n",
       "Sheffield United            4\n",
       "West Bromwich Albion        4\n",
       "West Ham United             4\n",
       "Wolverhampton Wanderers     4\n",
       "Burnley                     3\n",
       "Name: Penalty_Attempted, dtype: int64"
      ]
     },
     "execution_count": 113,
     "metadata": {},
     "output_type": "execute_result"
    }
   ],
   "source": [
    "pen_ard"
   ]
  },
  {
   "cell_type": "code",
   "execution_count": 148,
   "id": "80be6d2a",
   "metadata": {},
   "outputs": [
    {
     "data": {
      "image/png": "[encoded data removed]",
      "text/plain": [
       "<Figure size 1008x432 with 1 Axes>"
      ]
     },
     "metadata": {
      "needs_background": "light"
     },
     "output_type": "display_data"
    }
   ],
   "source": [
    "# Plot chart\n",
    "plt.figure(figsize=(14,6))\n",
    "pen_ard.plot(kind='barh')\n",
    "plt.title('Number of Penalties Awarded Per Team',fontsize=20, fontweight='bold')\n",
    "plt.xlabel('Clubs', fontsize=15, fontweight='bold')\n",
    "plt.show()"
   ]
  },
  {
   "cell_type": "markdown",
   "id": "9c52fcad",
   "metadata": {},
   "source": [
    "- From the chart above, we observe that Leicester city was awarded the most penalties for the season in comparison to Burnley that was awareded the least number of penalties for the season."
   ]
  },
  {
   "cell_type": "code",
   "execution_count": 120,
   "id": "0ef2748b",
   "metadata": {},
   "outputs": [],
   "source": [
    "# Extract the number of penalties scored by each club in descending order\n",
    "pen_scrd = df.groupby('Club')['Penalty_Goals'].sum().sort_values(ascending=False)"
   ]
  },
  {
   "cell_type": "code",
   "execution_count": 121,
   "id": "c53b67f2",
   "metadata": {
    "scrolled": false
   },
   "outputs": [
    {
     "data": {
      "text/plain": [
       "Club\n",
       "Leicester City             10\n",
       "Manchester United          10\n",
       "Chelsea                     8\n",
       "Arsenal                     6\n",
       "Newcastle United            6\n",
       "Liverpool FC                6\n",
       "Brighton                    6\n",
       "Aston Villa                 5\n",
       "Manchester City             5\n",
       "Southampton                 5\n",
       "Tottenham Hotspur           5\n",
       "Everton                     4\n",
       "Leeds United                4\n",
       "West Bromwich Albion        4\n",
       "Wolverhampton Wanderers     4\n",
       "Fulham                      3\n",
       "Crystal Palace              3\n",
       "Burnley                     3\n",
       "Sheffield United            3\n",
       "West Ham United             2\n",
       "Name: Penalty_Goals, dtype: int64"
      ]
     },
     "execution_count": 121,
     "metadata": {},
     "output_type": "execute_result"
    }
   ],
   "source": [
    "pen_scrd"
   ]
  },
  {
   "cell_type": "code",
   "execution_count": 149,
   "id": "784d5fb5",
   "metadata": {},
   "outputs": [
    {
     "data": {
      "image/png": "[encoded data removed]",
      "text/plain": [
       "<Figure size 1008x432 with 1 Axes>"
      ]
     },
     "metadata": {
      "needs_background": "light"
     },
     "output_type": "display_data"
    }
   ],
   "source": [
    "# Plot chart\n",
    "plt.figure(figsize=(14,6))\n",
    "pen_scrd.plot(kind='barh', color='lightgreen')\n",
    "plt.title('Number of Penalties Scored Per Team',fontsize=20, fontweight='bold')\n",
    "plt.xlabel('Clubs', fontsize=15, fontweight='bold')\n",
    "plt.show()"
   ]
  },
  {
   "cell_type": "code",
   "execution_count": 151,
   "id": "5a6c1ba1",
   "metadata": {},
   "outputs": [],
   "source": [
    "# Penalty conversion rate\n",
    "pen_con = (pen_scrd/pen_ard)*100"
   ]
  },
  {
   "cell_type": "code",
   "execution_count": 152,
   "id": "409beff3",
   "metadata": {},
   "outputs": [
    {
     "data": {
      "text/plain": [
       "Club\n",
       "Arsenal                    100.000000\n",
       "Leeds United               100.000000\n",
       "West Bromwich Albion       100.000000\n",
       "Tottenham Hotspur          100.000000\n",
       "Liverpool FC               100.000000\n",
       "Burnley                    100.000000\n",
       "Wolverhampton Wanderers    100.000000\n",
       "Manchester United           90.909091\n",
       "Newcastle United            85.714286\n",
       "Leicester City              83.333333\n",
       "Aston Villa                 83.333333\n",
       "Southampton                 83.333333\n",
       "Everton                     80.000000\n",
       "Chelsea                     80.000000\n",
       "Crystal Palace              75.000000\n",
       "Sheffield United            75.000000\n",
       "Brighton                    66.666667\n",
       "Manchester City             55.555556\n",
       "Fulham                      50.000000\n",
       "West Ham United             50.000000\n",
       "dtype: float64"
      ]
     },
     "execution_count": 152,
     "metadata": {},
     "output_type": "execute_result"
    }
   ],
   "source": [
    "pen_con.sort_values(ascending=False)"
   ]
  },
  {
   "cell_type": "markdown",
   "id": "fd785ff0",
   "metadata": {},
   "source": [
    "> From the analysis and plots above we notice the folowing:\n",
    "- **Leicester City** were awarded the most penalties with 12.\n",
    "- Although **Leicester City** were awarded the most penalties with 12, they were only able to convert 10 of them, leaving them with a penalty convertion rate of 83%.\n",
    "- Interestingly enough, **Manchester city** were awarded 9 penalties but only managed to convert 5 of them, leaving them with a convertion rate of about 56%, one of the lowest in the league."
   ]
  },
  {
   "cell_type": "markdown",
   "id": "026502b9",
   "metadata": {},
   "source": [
    "# Conclusion\n",
    "\n",
    "I gained the following insights from the analysis above:\n",
    "- Manchester United had the youngest squad with an average age of 23.86, roughly 24 years.\n",
    "- Crystal palace had the oldest squad with an average age of 28.33 roughly 28 years.\n",
    "- France had the most foreign players in the league, followed by brazil and then spain.\n",
    "- Players for Sheffield United and Aston villa received the most yellow cards during the season.\n",
    "- Players for Manchester city and Liverpool received the least amount of yellow cards during the season.\n",
    "- James Ward-Prowse and Pierre Hojbjerg had the highest number of minutes with 3420. Both these players played every single minute of the 20/21 EPL season.\n",
    "- Leicester city was awarded the most penalties for the season in comparison to Burnley that was awareded the least number of penalties for the season.\n",
    "- Manchester city were awarded 9 penalties but only managed to convert 5 of them, leaving them with a convertion rate of about 56%, one of the lowest in the league."
   ]
  },
  {
   "cell_type": "markdown",
   "id": "a521a7f4",
   "metadata": {},
   "source": [
    "# Limitation\n",
    "\n",
    "It is important to note that that the conclusions derived from the analysis above are only exclusive to the EPL 20/21 season. Therefore the information derived from this analysis does not apply to other seasons of the EPL."
   ]
  },
  {
   "cell_type": "markdown",
   "id": "bcd4793e",
   "metadata": {},
   "source": [
    "## Glossary\n",
    "\n",
    "- **EPL** -: English Premier League\n",
    "- **Perc_Passes_Completed** -: Percentage of passes completed\n",
    "- **xG** -: expected Goals per game\n",
    "- **xA** -: expected assists per game"
   ]
  }
 ],
 "metadata": {
  "kernelspec": {
   "display_name": "Python 3 (ipykernel)",
   "language": "python",
   "name": "python3"
  },
  "language_info": {
   "codemirror_mode": {
    "name": "ipython",
    "version": 3
   },
   "file_extension": ".py",
   "mimetype": "text/x-python",
   "name": "python",
   "nbconvert_exporter": "python",
   "pygments_lexer": "ipython3",
   "version": "3.9.7"
  }
 },
 "nbformat": 4,
 "nbformat_minor": 5
}
